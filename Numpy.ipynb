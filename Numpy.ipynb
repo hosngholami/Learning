{
  "nbformat": 4,
  "nbformat_minor": 0,
  "metadata": {
    "colab": {
      "provenance": [],
      "authorship_tag": "ABX9TyPgxodrdDjOyv68Sn10eG84",
      "include_colab_link": true
    },
    "kernelspec": {
      "name": "python3",
      "display_name": "Python 3"
    },
    "language_info": {
      "name": "python"
    }
  },
  "cells": [
    {
      "cell_type": "markdown",
      "metadata": {
        "id": "view-in-github",
        "colab_type": "text"
      },
      "source": [
        "<a href=\"https://colab.research.google.com/github/hosngholami/Learning/blob/main/Numpy.ipynb\" target=\"_parent\"><img src=\"https://colab.research.google.com/assets/colab-badge.svg\" alt=\"Open In Colab\"/></a>"
      ]
    },
    {
      "cell_type": "code",
      "execution_count": 1,
      "metadata": {
        "id": "c3ijHpaaC8Ta"
      },
      "outputs": [],
      "source": [
        "import numpy as np"
      ]
    },
    {
      "cell_type": "markdown",
      "source": [
        "Definiation 1 Demisional Array"
      ],
      "metadata": {
        "id": "0PGDiZF6ROf5"
      }
    },
    {
      "cell_type": "code",
      "source": [
        "a = np.array([1, 2, 3, 4, 5, 6, 7])"
      ],
      "metadata": {
        "id": "YbAiMG04OK-E"
      },
      "execution_count": 2,
      "outputs": []
    },
    {
      "cell_type": "markdown",
      "source": [
        "Getting Size in Array"
      ],
      "metadata": {
        "id": "xNHgsiJrRMMq"
      }
    },
    {
      "cell_type": "code",
      "source": [
        "a.shape"
      ],
      "metadata": {
        "id": "aNObvgCROSy-",
        "outputId": "67100793-baa5-4698-a714-93b24546e25a",
        "colab": {
          "base_uri": "https://localhost:8080/"
        }
      },
      "execution_count": 3,
      "outputs": [
        {
          "output_type": "execute_result",
          "data": {
            "text/plain": [
              "(7,)"
            ]
          },
          "metadata": {},
          "execution_count": 3
        }
      ]
    },
    {
      "cell_type": "code",
      "source": [
        "a[1]"
      ],
      "metadata": {
        "id": "oAlcYOPAOVnT",
        "outputId": "acac6b54-dabb-4d5f-f3ce-7f52e06bec0e",
        "colab": {
          "base_uri": "https://localhost:8080/"
        }
      },
      "execution_count": 4,
      "outputs": [
        {
          "output_type": "execute_result",
          "data": {
            "text/plain": [
              "np.int64(2)"
            ]
          },
          "metadata": {},
          "execution_count": 4
        }
      ]
    },
    {
      "cell_type": "markdown",
      "source": [
        "Getting Element event in array"
      ],
      "metadata": {
        "id": "TKPn-O5kRgNv"
      }
    },
    {
      "cell_type": "code",
      "source": [
        "a[::2]"
      ],
      "metadata": {
        "id": "FR-raNfOOZiE",
        "outputId": "ece081ed-40ef-4e68-f8f4-a85088700705",
        "colab": {
          "base_uri": "https://localhost:8080/"
        }
      },
      "execution_count": 5,
      "outputs": [
        {
          "output_type": "execute_result",
          "data": {
            "text/plain": [
              "array([1, 3, 5, 7])"
            ]
          },
          "metadata": {},
          "execution_count": 5
        }
      ]
    },
    {
      "cell_type": "code",
      "source": [
        "b = np.array([\n",
        "     [\n",
        "\n",
        "        [100, 1, 1, 1, 1, 1],\n",
        "        [2, 2, 2, 2, 2, 2],\n",
        "        [3, 3, 3, 3, 3, 3],\n",
        "        [4, 4, 4, 4, 4, 4],\n",
        "        [5, 5, 5, 5, 5, 5],\n",
        "        [6, 6, 6, 6, 6, 6],\n",
        "      ],\n",
        "      [\n",
        "        [1000, 1, 1, 1, 1, 1],\n",
        "        [2, 2, 2, 2, 2, 2],\n",
        "        [3, 3, 3, 3, 3, 3],\n",
        "        [4, 4, 4, 4, 4, 4],\n",
        "        [5, 5, 5, 5, 5, 5],\n",
        "        [6, 6, 6, 6, 6, 6],\n",
        "      ],\n",
        "      [\n",
        "        [10000, 1, 1, 1, 1, 1],\n",
        "        [2, 2, 2, 2, 2, 2],\n",
        "        [3, 3, 3, 3, 3, 3],\n",
        "        [4, 4, 4, 4, 4, 4],\n",
        "        [5, 5, 5, 5, 5, 5],\n",
        "        [6, 6, 6, 6, 6, 6],\n",
        "      ]\n",
        "\n",
        "\n",
        "])"
      ],
      "metadata": {
        "id": "E7XTnD94D1Lr"
      },
      "execution_count": 6,
      "outputs": []
    },
    {
      "cell_type": "code",
      "source": [
        "np.where(b % 2 == 0, b, 0)"
      ],
      "metadata": {
        "id": "D2O_UmwnI-iU",
        "outputId": "ff63a895-42dc-4d37-94b7-6552b485ee7d",
        "colab": {
          "base_uri": "https://localhost:8080/"
        }
      },
      "execution_count": 7,
      "outputs": [
        {
          "output_type": "execute_result",
          "data": {
            "text/plain": [
              "array([[[  100,     0,     0,     0,     0,     0],\n",
              "        [    2,     2,     2,     2,     2,     2],\n",
              "        [    0,     0,     0,     0,     0,     0],\n",
              "        [    4,     4,     4,     4,     4,     4],\n",
              "        [    0,     0,     0,     0,     0,     0],\n",
              "        [    6,     6,     6,     6,     6,     6]],\n",
              "\n",
              "       [[ 1000,     0,     0,     0,     0,     0],\n",
              "        [    2,     2,     2,     2,     2,     2],\n",
              "        [    0,     0,     0,     0,     0,     0],\n",
              "        [    4,     4,     4,     4,     4,     4],\n",
              "        [    0,     0,     0,     0,     0,     0],\n",
              "        [    6,     6,     6,     6,     6,     6]],\n",
              "\n",
              "       [[10000,     0,     0,     0,     0,     0],\n",
              "        [    2,     2,     2,     2,     2,     2],\n",
              "        [    0,     0,     0,     0,     0,     0],\n",
              "        [    4,     4,     4,     4,     4,     4],\n",
              "        [    0,     0,     0,     0,     0,     0],\n",
              "        [    6,     6,     6,     6,     6,     6]]])"
            ]
          },
          "metadata": {},
          "execution_count": 7
        }
      ]
    },
    {
      "cell_type": "code",
      "source": [
        "b.shape"
      ],
      "metadata": {
        "id": "0cvF2kcoFdqA",
        "outputId": "ffe364af-61f4-4fcb-9430-ddd9131c7bf6",
        "colab": {
          "base_uri": "https://localhost:8080/"
        }
      },
      "execution_count": 8,
      "outputs": [
        {
          "output_type": "execute_result",
          "data": {
            "text/plain": [
              "(3, 6, 6)"
            ]
          },
          "metadata": {},
          "execution_count": 8
        }
      ]
    },
    {
      "cell_type": "code",
      "source": [
        "l2 = np.array([\n",
        "    [\n",
        "\n",
        "        [1, 1, 1, 1, 1, 1],\n",
        "        [2, 2, 2, 2, 2, 2],\n",
        "\n",
        "      ],\n",
        "      [\n",
        "        [1, 1, 1, 1, 1, 1],\n",
        "        [2, 2, 2, 2, 2, 2],\n",
        "\n",
        "      ],\n",
        "      [\n",
        "        [1, 1, 1, 1, 1, 1],\n",
        "        [2, 2, 2, 2, 2, 2],\n",
        "\n",
        "      ]\n",
        "\n",
        "])"
      ],
      "metadata": {
        "id": "du90FpWXINuZ"
      },
      "execution_count": 9,
      "outputs": []
    },
    {
      "cell_type": "code",
      "source": [
        "l2.shape"
      ],
      "metadata": {
        "id": "Lm1WPUxpImZw",
        "outputId": "3b9c7874-1e95-4517-85cf-7096f19a0424",
        "colab": {
          "base_uri": "https://localhost:8080/"
        }
      },
      "execution_count": 10,
      "outputs": [
        {
          "output_type": "execute_result",
          "data": {
            "text/plain": [
              "(3, 2, 6)"
            ]
          },
          "metadata": {},
          "execution_count": 10
        }
      ]
    },
    {
      "cell_type": "code",
      "source": [
        "c = np.array([1, 2, 3, 4, 5])\n",
        "d = np.array([6, 7, 8])\n",
        "\n",
        "np.concatenate((c, d))"
      ],
      "metadata": {
        "colab": {
          "base_uri": "https://localhost:8080/"
        },
        "id": "VRD2GZo3frs4",
        "outputId": "de672d9a-dfc3-420e-cb27-bf4fcaa16732"
      },
      "execution_count": 14,
      "outputs": [
        {
          "output_type": "execute_result",
          "data": {
            "text/plain": [
              "array([1, 2, 3, 4, 5, 6, 7, 8])"
            ]
          },
          "metadata": {},
          "execution_count": 14
        }
      ]
    },
    {
      "cell_type": "code",
      "source": [
        "f = np.array([[1, 2], [3, 4]])\n",
        "g = np.array([[5, 6]])"
      ],
      "metadata": {
        "id": "_CWlDNRPiBbV"
      },
      "execution_count": 35,
      "outputs": []
    },
    {
      "cell_type": "code",
      "source": [
        "z = np.concatenate((f, g), axis=0)\n",
        "z\n",
        "y2 = np.array([[5,6], [7,8]])\n",
        "y3 = np.array([[10], [11], [12]])\n",
        "z = np.concatenate((f, y2), axis=1)\n",
        "z.shape\n",
        "z\n",
        "# np.concatenate((z, y3), axis=1)"
      ],
      "metadata": {
        "colab": {
          "base_uri": "https://localhost:8080/"
        },
        "id": "RDVzCcISiXM_",
        "outputId": "1b3957d0-76a4-42e9-a7c0-2b2306ca6c13"
      },
      "execution_count": 45,
      "outputs": [
        {
          "output_type": "execute_result",
          "data": {
            "text/plain": [
              "array([[1, 2, 5, 6],\n",
              "       [3, 4, 7, 8]])"
            ]
          },
          "metadata": {},
          "execution_count": 45
        }
      ]
    },
    {
      "cell_type": "code",
      "source": [
        "z.shape"
      ],
      "metadata": {
        "colab": {
          "base_uri": "https://localhost:8080/"
        },
        "id": "rIqPVV3rj7Qd",
        "outputId": "7ec9e53d-704b-4941-cb80-9dbd186af689"
      },
      "execution_count": 41,
      "outputs": [
        {
          "output_type": "execute_result",
          "data": {
            "text/plain": [
              "(2, 3)"
            ]
          },
          "metadata": {},
          "execution_count": 41
        }
      ]
    },
    {
      "cell_type": "code",
      "source": [
        "x = np.array([[1, 2], [3, 4]])\n",
        "y = np.array([[5, 6]])\n",
        "np.concatenate((x, y), axis=0)\n"
      ],
      "metadata": {
        "colab": {
          "base_uri": "https://localhost:8080/"
        },
        "id": "ZnDsFXueitIm",
        "outputId": "17153ff6-a596-4009-db40-0d5f751398fe"
      },
      "execution_count": 19,
      "outputs": [
        {
          "output_type": "execute_result",
          "data": {
            "text/plain": [
              "array([[1, 2],\n",
              "       [3, 4],\n",
              "       [5, 6]])"
            ]
          },
          "metadata": {},
          "execution_count": 19
        }
      ]
    },
    {
      "cell_type": "code",
      "source": [
        "np.sum(z, axis=0)"
      ],
      "metadata": {
        "id": "a3lJh0rFm4A_",
        "outputId": "7efee923-d7e3-4d29-f57a-c22a973f65af",
        "colab": {
          "base_uri": "https://localhost:8080/"
        }
      },
      "execution_count": 47,
      "outputs": [
        {
          "output_type": "execute_result",
          "data": {
            "text/plain": [
              "array([ 4,  6, 12, 14])"
            ]
          },
          "metadata": {},
          "execution_count": 47
        }
      ]
    },
    {
      "cell_type": "code",
      "source": [
        "np.sum(b, axis=0)"
      ],
      "metadata": {
        "id": "YiSE-iZvnE_L",
        "outputId": "2439c717-e477-4daa-dd55-afb4c3a8af63",
        "colab": {
          "base_uri": "https://localhost:8080/"
        }
      },
      "execution_count": 48,
      "outputs": [
        {
          "output_type": "execute_result",
          "data": {
            "text/plain": [
              "array([[11100,     3,     3,     3,     3,     3],\n",
              "       [    6,     6,     6,     6,     6,     6],\n",
              "       [    9,     9,     9,     9,     9,     9],\n",
              "       [   12,    12,    12,    12,    12,    12],\n",
              "       [   15,    15,    15,    15,    15,    15],\n",
              "       [   18,    18,    18,    18,    18,    18]])"
            ]
          },
          "metadata": {},
          "execution_count": 48
        }
      ]
    }
  ]
}