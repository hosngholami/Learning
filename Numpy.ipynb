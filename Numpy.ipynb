{
  "nbformat": 4,
  "nbformat_minor": 0,
  "metadata": {
    "colab": {
      "provenance": [],
      "authorship_tag": "ABX9TyMPE3ndxAfvgG2bayAF5Rok",
      "include_colab_link": true
    },
    "kernelspec": {
      "name": "python3",
      "display_name": "Python 3"
    },
    "language_info": {
      "name": "python"
    }
  },
  "cells": [
    {
      "cell_type": "markdown",
      "metadata": {
        "id": "view-in-github",
        "colab_type": "text"
      },
      "source": [
        "<a href=\"https://colab.research.google.com/github/hosngholami/Learning/blob/main/Numpy.ipynb\" target=\"_parent\"><img src=\"https://colab.research.google.com/assets/colab-badge.svg\" alt=\"Open In Colab\"/></a>"
      ]
    },
    {
      "cell_type": "code",
      "execution_count": 1,
      "metadata": {
        "id": "c3ijHpaaC8Ta"
      },
      "outputs": [],
      "source": [
        "import numpy as np"
      ]
    },
    {
      "cell_type": "markdown",
      "source": [
        "Definiation 1 Demisional Array"
      ],
      "metadata": {
        "id": "0PGDiZF6ROf5"
      }
    },
    {
      "cell_type": "code",
      "source": [
        "a = np.array([1, 2, 3, 4, 5, 6, 7])"
      ],
      "metadata": {
        "id": "YbAiMG04OK-E"
      },
      "execution_count": null,
      "outputs": []
    },
    {
      "cell_type": "markdown",
      "source": [
        "Getting Size in Array"
      ],
      "metadata": {
        "id": "xNHgsiJrRMMq"
      }
    },
    {
      "cell_type": "code",
      "source": [
        "a.shape"
      ],
      "metadata": {
        "id": "aNObvgCROSy-",
        "outputId": "67100793-baa5-4698-a714-93b24546e25a",
        "colab": {
          "base_uri": "https://localhost:8080/"
        }
      },
      "execution_count": null,
      "outputs": [
        {
          "output_type": "execute_result",
          "data": {
            "text/plain": [
              "(7,)"
            ]
          },
          "metadata": {},
          "execution_count": 3
        }
      ]
    },
    {
      "cell_type": "code",
      "source": [
        "a[1]"
      ],
      "metadata": {
        "id": "oAlcYOPAOVnT",
        "outputId": "acac6b54-dabb-4d5f-f3ce-7f52e06bec0e",
        "colab": {
          "base_uri": "https://localhost:8080/"
        }
      },
      "execution_count": null,
      "outputs": [
        {
          "output_type": "execute_result",
          "data": {
            "text/plain": [
              "np.int64(2)"
            ]
          },
          "metadata": {},
          "execution_count": 4
        }
      ]
    },
    {
      "cell_type": "markdown",
      "source": [
        "Getting Element event in array"
      ],
      "metadata": {
        "id": "TKPn-O5kRgNv"
      }
    },
    {
      "cell_type": "code",
      "source": [
        "a[::2]"
      ],
      "metadata": {
        "id": "FR-raNfOOZiE",
        "outputId": "ece081ed-40ef-4e68-f8f4-a85088700705",
        "colab": {
          "base_uri": "https://localhost:8080/"
        }
      },
      "execution_count": null,
      "outputs": [
        {
          "output_type": "execute_result",
          "data": {
            "text/plain": [
              "array([1, 3, 5, 7])"
            ]
          },
          "metadata": {},
          "execution_count": 5
        }
      ]
    },
    {
      "cell_type": "code",
      "source": [
        "b = np.array([\n",
        "     [\n",
        "\n",
        "        [100, 1, 1, 1, 1, 1],\n",
        "        [2, 2, 2, 2, 2, 2],\n",
        "        [3, 3, 3, 3, 3, 3],\n",
        "        [4, 4, 4, 4, 4, 4],\n",
        "        [5, 5, 5, 5, 5, 5],\n",
        "        [6, 6, 6, 6, 6, 6],\n",
        "      ],\n",
        "      [\n",
        "        [1000, 1, 1, 1, 1, 1],\n",
        "        [2, 2, 2, 2, 2, 2],\n",
        "        [3, 3, 3, 3, 3, 3],\n",
        "        [4, 4, 4, 4, 4, 4],\n",
        "        [5, 5, 5, 5, 5, 5],\n",
        "        [6, 6, 6, 6, 6, 6],\n",
        "      ],\n",
        "      [\n",
        "        [10000, 1, 1, 1, 1, 1],\n",
        "        [2, 2, 2, 2, 2, 2],\n",
        "        [3, 3, 3, 3, 3, 3],\n",
        "        [4, 4, 4, 4, 4, -3],\n",
        "        [5, 5, 5, 5, 5, -2],\n",
        "        [6, 6, 6, 6, 6, -1],\n",
        "      ]\n",
        "])"
      ],
      "metadata": {
        "id": "E7XTnD94D1Lr"
      },
      "execution_count": 69,
      "outputs": []
    },
    {
      "cell_type": "code",
      "source": [
        "for i in range(b.ndim):\n",
        "  print(b[i].min(axis=1))\n"
      ],
      "metadata": {
        "id": "PT3gIAJnP0Eb",
        "outputId": "72bd1217-a02c-4b32-ecee-66bb3ed73bcd",
        "colab": {
          "base_uri": "https://localhost:8080/"
        }
      },
      "execution_count": 70,
      "outputs": [
        {
          "output_type": "stream",
          "name": "stdout",
          "text": [
            "[1 2 3 4 5 6]\n",
            "[1 2 3 4 5 6]\n",
            "[ 1  2  3 -3 -2 -1]\n"
          ]
        }
      ]
    },
    {
      "cell_type": "code",
      "source": [
        "b.shape"
      ],
      "metadata": {
        "id": "zUWjDzU4ZnvG",
        "outputId": "5cf4246f-4928-4501-ed62-601b706d47c1",
        "colab": {
          "base_uri": "https://localhost:8080/"
        }
      },
      "execution_count": 74,
      "outputs": [
        {
          "output_type": "execute_result",
          "data": {
            "text/plain": [
              "(3, 6, 6)"
            ]
          },
          "metadata": {},
          "execution_count": 74
        }
      ]
    },
    {
      "cell_type": "code",
      "source": [
        "n = [40, 40, 40, 40, 40, 40]\n",
        "c = np.array([\n",
        "    np.vstack((mat, n)) for mat in b\n",
        "])\n",
        "\n"
      ],
      "metadata": {
        "id": "u4umJu7hRGtp"
      },
      "execution_count": 75,
      "outputs": []
    },
    {
      "cell_type": "code",
      "source": [
        "c.shape"
      ],
      "metadata": {
        "id": "yz4qeszEZfvQ",
        "outputId": "6a8b5cdc-5cb4-4731-952e-3d8bd8051186",
        "colab": {
          "base_uri": "https://localhost:8080/"
        }
      },
      "execution_count": 76,
      "outputs": [
        {
          "output_type": "execute_result",
          "data": {
            "text/plain": [
              "(3, 7, 6)"
            ]
          },
          "metadata": {},
          "execution_count": 76
        }
      ]
    },
    {
      "cell_type": "code",
      "source": [
        "# n = np.array([40, 40, 40, 40, 40, 40, 40])\n",
        "n = np.full((7,1), 40)\n",
        "print(c.shape)\n",
        "d = np.array([\n",
        "    np.hstack((mat, n)) for mat in c\n",
        "])\n",
        "print(d)"
      ],
      "metadata": {
        "id": "0DF5h2O5YciV",
        "outputId": "f13a9379-77da-404e-cbf4-bf05f6ada4ff",
        "colab": {
          "base_uri": "https://localhost:8080/"
        }
      },
      "execution_count": 79,
      "outputs": [
        {
          "output_type": "stream",
          "name": "stdout",
          "text": [
            "(3, 7, 6)\n",
            "[[[  100     1     1     1     1     1    40]\n",
            "  [    2     2     2     2     2     2    40]\n",
            "  [    3     3     3     3     3     3    40]\n",
            "  [    4     4     4     4     4     4    40]\n",
            "  [    5     5     5     5     5     5    40]\n",
            "  [    6     6     6     6     6     6    40]\n",
            "  [   40    40    40    40    40    40    40]]\n",
            "\n",
            " [[ 1000     1     1     1     1     1    40]\n",
            "  [    2     2     2     2     2     2    40]\n",
            "  [    3     3     3     3     3     3    40]\n",
            "  [    4     4     4     4     4     4    40]\n",
            "  [    5     5     5     5     5     5    40]\n",
            "  [    6     6     6     6     6     6    40]\n",
            "  [   40    40    40    40    40    40    40]]\n",
            "\n",
            " [[10000     1     1     1     1     1    40]\n",
            "  [    2     2     2     2     2     2    40]\n",
            "  [    3     3     3     3     3     3    40]\n",
            "  [    4     4     4     4     4    -3    40]\n",
            "  [    5     5     5     5     5    -2    40]\n",
            "  [    6     6     6     6     6    -1    40]\n",
            "  [   40    40    40    40    40    40    40]]]\n"
          ]
        }
      ]
    },
    {
      "cell_type": "code",
      "source": [
        "d"
      ],
      "metadata": {
        "id": "90jjMec8YjRr",
        "outputId": "486d39bb-0b30-4320-d79d-689a144cfdd9",
        "colab": {
          "base_uri": "https://localhost:8080/",
          "height": 141
        }
      },
      "execution_count": 63,
      "outputs": [
        {
          "output_type": "error",
          "ename": "NameError",
          "evalue": "name 'd' is not defined",
          "traceback": [
            "\u001b[0;31m---------------------------------------------------------------------------\u001b[0m",
            "\u001b[0;31mNameError\u001b[0m                                 Traceback (most recent call last)",
            "\u001b[0;32m/tmp/ipython-input-3161387801.py\u001b[0m in \u001b[0;36m<cell line: 0>\u001b[0;34m()\u001b[0m\n\u001b[0;32m----> 1\u001b[0;31m \u001b[0md\u001b[0m\u001b[0;34m\u001b[0m\u001b[0;34m\u001b[0m\u001b[0m\n\u001b[0m",
            "\u001b[0;31mNameError\u001b[0m: name 'd' is not defined"
          ]
        }
      ]
    },
    {
      "cell_type": "code",
      "source": [
        "np.where(b % 2 == 0, b, 0)"
      ],
      "metadata": {
        "id": "D2O_UmwnI-iU",
        "outputId": "ff63a895-42dc-4d37-94b7-6552b485ee7d",
        "colab": {
          "base_uri": "https://localhost:8080/"
        }
      },
      "execution_count": null,
      "outputs": [
        {
          "output_type": "execute_result",
          "data": {
            "text/plain": [
              "array([[[  100,     0,     0,     0,     0,     0],\n",
              "        [    2,     2,     2,     2,     2,     2],\n",
              "        [    0,     0,     0,     0,     0,     0],\n",
              "        [    4,     4,     4,     4,     4,     4],\n",
              "        [    0,     0,     0,     0,     0,     0],\n",
              "        [    6,     6,     6,     6,     6,     6]],\n",
              "\n",
              "       [[ 1000,     0,     0,     0,     0,     0],\n",
              "        [    2,     2,     2,     2,     2,     2],\n",
              "        [    0,     0,     0,     0,     0,     0],\n",
              "        [    4,     4,     4,     4,     4,     4],\n",
              "        [    0,     0,     0,     0,     0,     0],\n",
              "        [    6,     6,     6,     6,     6,     6]],\n",
              "\n",
              "       [[10000,     0,     0,     0,     0,     0],\n",
              "        [    2,     2,     2,     2,     2,     2],\n",
              "        [    0,     0,     0,     0,     0,     0],\n",
              "        [    4,     4,     4,     4,     4,     4],\n",
              "        [    0,     0,     0,     0,     0,     0],\n",
              "        [    6,     6,     6,     6,     6,     6]]])"
            ]
          },
          "metadata": {},
          "execution_count": 7
        }
      ]
    },
    {
      "cell_type": "code",
      "source": [
        "b.shape"
      ],
      "metadata": {
        "id": "0cvF2kcoFdqA",
        "outputId": "ffe364af-61f4-4fcb-9430-ddd9131c7bf6",
        "colab": {
          "base_uri": "https://localhost:8080/"
        }
      },
      "execution_count": null,
      "outputs": [
        {
          "output_type": "execute_result",
          "data": {
            "text/plain": [
              "(3, 6, 6)"
            ]
          },
          "metadata": {},
          "execution_count": 8
        }
      ]
    },
    {
      "cell_type": "code",
      "source": [
        "l2 = np.array([\n",
        "    [\n",
        "\n",
        "        [1, 1, 1, 1, 1, 1],\n",
        "        [2, 2, 2, 2, 2, 2],\n",
        "\n",
        "      ],\n",
        "      [\n",
        "        [1, 1, 1, 1, 1, 1],\n",
        "        [2, 2, 2, 2, 2, 2],\n",
        "\n",
        "      ],\n",
        "      [\n",
        "        [1, 1, 1, 1, 1, 1],\n",
        "        [2, 2, 2, 2, 2, 2],\n",
        "\n",
        "      ]\n",
        "\n",
        "])"
      ],
      "metadata": {
        "id": "du90FpWXINuZ"
      },
      "execution_count": null,
      "outputs": []
    },
    {
      "cell_type": "code",
      "source": [
        "l2.shape"
      ],
      "metadata": {
        "id": "Lm1WPUxpImZw",
        "outputId": "3b9c7874-1e95-4517-85cf-7096f19a0424",
        "colab": {
          "base_uri": "https://localhost:8080/"
        }
      },
      "execution_count": null,
      "outputs": [
        {
          "output_type": "execute_result",
          "data": {
            "text/plain": [
              "(3, 2, 6)"
            ]
          },
          "metadata": {},
          "execution_count": 10
        }
      ]
    },
    {
      "cell_type": "code",
      "source": [
        "c = np.array([1, 2, 3, 4, 5])\n",
        "d = np.array([6, 7, 8])\n",
        "\n",
        "np.concatenate((c, d))"
      ],
      "metadata": {
        "colab": {
          "base_uri": "https://localhost:8080/"
        },
        "id": "VRD2GZo3frs4",
        "outputId": "de672d9a-dfc3-420e-cb27-bf4fcaa16732"
      },
      "execution_count": null,
      "outputs": [
        {
          "output_type": "execute_result",
          "data": {
            "text/plain": [
              "array([1, 2, 3, 4, 5, 6, 7, 8])"
            ]
          },
          "metadata": {},
          "execution_count": 14
        }
      ]
    },
    {
      "cell_type": "code",
      "source": [
        "f = np.array([[1, 2], [3, 4]])\n",
        "g = np.array([[5, 6]])"
      ],
      "metadata": {
        "id": "_CWlDNRPiBbV"
      },
      "execution_count": null,
      "outputs": []
    },
    {
      "cell_type": "code",
      "source": [
        "z = np.concatenate((f, g), axis=0)\n",
        "z\n",
        "y2 = np.array([[5,6], [7,8]])\n",
        "y3 = np.array([[10], [11], [12]])\n",
        "z = np.concatenate((f, y2), axis=1)\n",
        "z.shape\n",
        "z\n",
        "# np.concatenate((z, y3), axis=1)"
      ],
      "metadata": {
        "colab": {
          "base_uri": "https://localhost:8080/"
        },
        "id": "RDVzCcISiXM_",
        "outputId": "1b3957d0-76a4-42e9-a7c0-2b2306ca6c13"
      },
      "execution_count": null,
      "outputs": [
        {
          "output_type": "execute_result",
          "data": {
            "text/plain": [
              "array([[1, 2, 5, 6],\n",
              "       [3, 4, 7, 8]])"
            ]
          },
          "metadata": {},
          "execution_count": 45
        }
      ]
    },
    {
      "cell_type": "code",
      "source": [
        "z.shape"
      ],
      "metadata": {
        "colab": {
          "base_uri": "https://localhost:8080/"
        },
        "id": "rIqPVV3rj7Qd",
        "outputId": "7ec9e53d-704b-4941-cb80-9dbd186af689"
      },
      "execution_count": null,
      "outputs": [
        {
          "output_type": "execute_result",
          "data": {
            "text/plain": [
              "(2, 3)"
            ]
          },
          "metadata": {},
          "execution_count": 41
        }
      ]
    },
    {
      "cell_type": "code",
      "source": [
        "x = np.array([[1, 2], [3, 4]])\n",
        "y = np.array([[5, 6]])\n",
        "np.concatenate((x, y), axis=0)\n"
      ],
      "metadata": {
        "colab": {
          "base_uri": "https://localhost:8080/"
        },
        "id": "ZnDsFXueitIm",
        "outputId": "17153ff6-a596-4009-db40-0d5f751398fe"
      },
      "execution_count": null,
      "outputs": [
        {
          "output_type": "execute_result",
          "data": {
            "text/plain": [
              "array([[1, 2],\n",
              "       [3, 4],\n",
              "       [5, 6]])"
            ]
          },
          "metadata": {},
          "execution_count": 19
        }
      ]
    },
    {
      "cell_type": "code",
      "source": [
        "np.sum(z, axis=0)"
      ],
      "metadata": {
        "id": "a3lJh0rFm4A_",
        "outputId": "7efee923-d7e3-4d29-f57a-c22a973f65af",
        "colab": {
          "base_uri": "https://localhost:8080/"
        }
      },
      "execution_count": null,
      "outputs": [
        {
          "output_type": "execute_result",
          "data": {
            "text/plain": [
              "array([ 4,  6, 12, 14])"
            ]
          },
          "metadata": {},
          "execution_count": 47
        }
      ]
    },
    {
      "cell_type": "code",
      "source": [
        "np.sum(b, axis=0)"
      ],
      "metadata": {
        "id": "YiSE-iZvnE_L",
        "outputId": "2439c717-e477-4daa-dd55-afb4c3a8af63",
        "colab": {
          "base_uri": "https://localhost:8080/"
        }
      },
      "execution_count": null,
      "outputs": [
        {
          "output_type": "execute_result",
          "data": {
            "text/plain": [
              "array([[11100,     3,     3,     3,     3,     3],\n",
              "       [    6,     6,     6,     6,     6,     6],\n",
              "       [    9,     9,     9,     9,     9,     9],\n",
              "       [   12,    12,    12,    12,    12,    12],\n",
              "       [   15,    15,    15,    15,    15,    15],\n",
              "       [   18,    18,    18,    18,    18,    18]])"
            ]
          },
          "metadata": {},
          "execution_count": 48
        }
      ]
    },
    {
      "cell_type": "code",
      "source": [
        "a = np.arange(6)\n",
        "print(a)\n",
        "b = a.reshape(3, 2)\n",
        "print(b)\n",
        "print(b.shape)"
      ],
      "metadata": {
        "colab": {
          "base_uri": "https://localhost:8080/"
        },
        "id": "CdIKsYw1F4v-",
        "outputId": "fe3d7d4b-04fb-4c99-95a0-2e8c07a9f580"
      },
      "execution_count": null,
      "outputs": [
        {
          "output_type": "stream",
          "name": "stdout",
          "text": [
            "[0 1 2 3 4 5]\n",
            "[[0 1]\n",
            " [2 3]\n",
            " [4 5]]\n",
            "(3, 2)\n"
          ]
        }
      ]
    },
    {
      "cell_type": "code",
      "source": [
        "x = a[np.newaxis, :]\n",
        "p = x[np.newaxis, :]\n",
        "y = p[:, np.newaxis]\n",
        "print(p)\n",
        "print(y)\n",
        "print('**************')\n",
        "print(x)\n",
        "print(x.shape)\n",
        "print(a.shape)\n",
        "print(p.shape)\n",
        "print(y.shape)\n",
        "print('-------------------')\n"
      ],
      "metadata": {
        "colab": {
          "base_uri": "https://localhost:8080/"
        },
        "id": "da3J7FtSIGg6",
        "outputId": "0013b467-0d23-4457-d4a4-41bd3d56d5a9"
      },
      "execution_count": null,
      "outputs": [
        {
          "output_type": "stream",
          "name": "stdout",
          "text": [
            "[[[0 1 2 3 4 5]]]\n",
            "[[[[0 1 2 3 4 5]]]]\n",
            "**************\n",
            "[[0 1 2 3 4 5]]\n",
            "(1, 6)\n",
            "(6,)\n",
            "(1, 1, 6)\n",
            "(1, 1, 1, 6)\n",
            "-------------------\n"
          ]
        }
      ]
    },
    {
      "cell_type": "code",
      "source": [
        "a = np.array([\n",
        "    [\n",
        "        [1, 1, 1, 1, 1, 1],\n",
        "        [1, 1, 1, 1, 1, 1],\n",
        "        [1, 1, 1, 1, 1, 1],\n",
        "        [1, 1, 1, 1, 1, 1],\n",
        "        [1, 1, 1, 1, 1, 1],\n",
        "        [1, 1, 1, 1, 1, 1],\n",
        "    ],\n",
        "\n",
        "])\n",
        "b = np.array([3, 3, 3, 3, 3, 3])\n",
        "np.concatenate((a[0], b[np.newaxis, :]), axis=0)"
      ],
      "metadata": {
        "id": "PAolWG9QKZRQ",
        "outputId": "61e0d713-4faa-45c5-9ec6-be8ca876ec0d",
        "colab": {
          "base_uri": "https://localhost:8080/"
        }
      },
      "execution_count": null,
      "outputs": [
        {
          "output_type": "execute_result",
          "data": {
            "text/plain": [
              "array([[1, 1, 1, 1, 1, 1],\n",
              "       [1, 1, 1, 1, 1, 1],\n",
              "       [1, 1, 1, 1, 1, 1],\n",
              "       [1, 1, 1, 1, 1, 1],\n",
              "       [1, 1, 1, 1, 1, 1],\n",
              "       [1, 1, 1, 1, 1, 1],\n",
              "       [3, 3, 3, 3, 3, 3]])"
            ]
          },
          "metadata": {},
          "execution_count": 55
        }
      ]
    },
    {
      "cell_type": "code",
      "source": [
        "b = np.array([3, 3, 3, 3, 3, 3])\n",
        "np.concatenate((a[0], b[:, np.newaxis]), axis=1)"
      ],
      "metadata": {
        "id": "p2e9qaeiMm3g",
        "outputId": "b5dd3389-aec0-416d-92d5-0afc71d2c2ce",
        "colab": {
          "base_uri": "https://localhost:8080/"
        }
      },
      "execution_count": null,
      "outputs": [
        {
          "output_type": "execute_result",
          "data": {
            "text/plain": [
              "array([[1, 1, 1, 1, 1, 1, 3],\n",
              "       [1, 1, 1, 1, 1, 1, 3],\n",
              "       [1, 1, 1, 1, 1, 1, 3],\n",
              "       [1, 1, 1, 1, 1, 1, 3],\n",
              "       [1, 1, 1, 1, 1, 1, 3],\n",
              "       [1, 1, 1, 1, 1, 1, 3]])"
            ]
          },
          "metadata": {},
          "execution_count": 56
        }
      ]
    },
    {
      "cell_type": "code",
      "source": [
        "a = np.array([1, 2, 3, 4, 5, 6])\n",
        "a.shape"
      ],
      "metadata": {
        "id": "MymtP-a2K0zl",
        "outputId": "d0129d6a-3f6a-48da-a30e-43db09db9a8d",
        "colab": {
          "base_uri": "https://localhost:8080/"
        }
      },
      "execution_count": null,
      "outputs": [
        {
          "output_type": "execute_result",
          "data": {
            "text/plain": [
              "(6,)"
            ]
          },
          "metadata": {},
          "execution_count": 2
        }
      ]
    },
    {
      "cell_type": "code",
      "source": [
        "b = np.expand_dims(a, axis=1)\n",
        "b"
      ],
      "metadata": {
        "id": "G1GRNJ-aLC5X",
        "outputId": "d7b74d20-7c55-410b-d6e8-b3653985f1c3",
        "colab": {
          "base_uri": "https://localhost:8080/"
        }
      },
      "execution_count": null,
      "outputs": [
        {
          "output_type": "execute_result",
          "data": {
            "text/plain": [
              "array([[1],\n",
              "       [2],\n",
              "       [3],\n",
              "       [4],\n",
              "       [5],\n",
              "       [6]])"
            ]
          },
          "metadata": {},
          "execution_count": 4
        }
      ]
    },
    {
      "cell_type": "code",
      "source": [
        "upper = (a > 2)\n",
        "print(a[upper])"
      ],
      "metadata": {
        "id": "mJuTfFbDLW36",
        "outputId": "348f28c1-1362-4b7f-fdbc-b3d1b7a12040",
        "colab": {
          "base_uri": "https://localhost:8080/"
        }
      },
      "execution_count": null,
      "outputs": [
        {
          "output_type": "stream",
          "name": "stdout",
          "text": [
            "[3 4 5 6]\n"
          ]
        }
      ]
    },
    {
      "cell_type": "code",
      "source": [
        "a = np.array([1,2,3,3,4,5,6,7,8,9,9])\n",
        "b = np.unique(a, return_index=True)\n",
        "b"
      ],
      "metadata": {
        "id": "56sTx-EMMGkg",
        "outputId": "fc7dc1ae-4d6b-4fc3-bb12-e6d44d26c8f6",
        "colab": {
          "base_uri": "https://localhost:8080/"
        }
      },
      "execution_count": null,
      "outputs": [
        {
          "output_type": "execute_result",
          "data": {
            "text/plain": [
              "(array([1, 2, 3, 4, 5, 6, 7, 8, 9]), array([0, 1, 2, 4, 5, 6, 7, 8, 9]))"
            ]
          },
          "metadata": {},
          "execution_count": 11
        }
      ]
    },
    {
      "cell_type": "code",
      "source": [
        "np.random.choice(np.arange(1, 10), size=(1, 5), replace=False)\n"
      ],
      "metadata": {
        "id": "AQaatwdBUVVH",
        "outputId": "8be2382a-6f8e-48a0-90dd-569d3a36a88d",
        "colab": {
          "base_uri": "https://localhost:8080/"
        }
      },
      "execution_count": null,
      "outputs": [
        {
          "output_type": "execute_result",
          "data": {
            "text/plain": [
              "array([[3, 9, 7, 8, 5]])"
            ]
          },
          "metadata": {},
          "execution_count": 34
        }
      ]
    }
  ]
}