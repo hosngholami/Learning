{
  "nbformat": 4,
  "nbformat_minor": 0,
  "metadata": {
    "colab": {
      "provenance": [],
      "authorship_tag": "ABX9TyNhwx5h2Kx1I+Lk4H6NyzeK",
      "include_colab_link": true
    },
    "kernelspec": {
      "name": "python3",
      "display_name": "Python 3"
    },
    "language_info": {
      "name": "python"
    }
  },
  "cells": [
    {
      "cell_type": "markdown",
      "metadata": {
        "id": "view-in-github",
        "colab_type": "text"
      },
      "source": [
        "<a href=\"https://colab.research.google.com/github/hosngholami/Learning/blob/main/Numpy.ipynb\" target=\"_parent\"><img src=\"https://colab.research.google.com/assets/colab-badge.svg\" alt=\"Open In Colab\"/></a>"
      ]
    },
    {
      "cell_type": "code",
      "execution_count": 1,
      "metadata": {
        "id": "c3ijHpaaC8Ta"
      },
      "outputs": [],
      "source": [
        "import numpy as np"
      ]
    },
    {
      "cell_type": "markdown",
      "source": [
        "Definiation 1 Demisional Array"
      ],
      "metadata": {
        "id": "0PGDiZF6ROf5"
      }
    },
    {
      "cell_type": "code",
      "source": [
        "a = np.array([1, 2, 3, 4, 5, 6, 7])"
      ],
      "metadata": {
        "id": "YbAiMG04OK-E"
      },
      "execution_count": 2,
      "outputs": []
    },
    {
      "cell_type": "markdown",
      "source": [
        "Getting Size in Array"
      ],
      "metadata": {
        "id": "xNHgsiJrRMMq"
      }
    },
    {
      "cell_type": "code",
      "source": [
        "a.shape"
      ],
      "metadata": {
        "id": "aNObvgCROSy-",
        "outputId": "88692ffb-6f46-4dec-f3aa-b8808c914d67",
        "colab": {
          "base_uri": "https://localhost:8080/"
        }
      },
      "execution_count": 3,
      "outputs": [
        {
          "output_type": "execute_result",
          "data": {
            "text/plain": [
              "(7,)"
            ]
          },
          "metadata": {},
          "execution_count": 3
        }
      ]
    },
    {
      "cell_type": "code",
      "source": [
        "a[1]"
      ],
      "metadata": {
        "id": "oAlcYOPAOVnT",
        "outputId": "31344fec-8368-4fb2-c7aa-171af4534523",
        "colab": {
          "base_uri": "https://localhost:8080/"
        }
      },
      "execution_count": null,
      "outputs": [
        {
          "output_type": "execute_result",
          "data": {
            "text/plain": [
              "np.int64(2)"
            ]
          },
          "metadata": {},
          "execution_count": 4
        }
      ]
    },
    {
      "cell_type": "markdown",
      "source": [
        "Getting Element event in array"
      ],
      "metadata": {
        "id": "TKPn-O5kRgNv"
      }
    },
    {
      "cell_type": "code",
      "source": [
        "a[::2]"
      ],
      "metadata": {
        "id": "FR-raNfOOZiE",
        "outputId": "6253c18c-ba24-43ff-96db-ac3c2b51a4c4",
        "colab": {
          "base_uri": "https://localhost:8080/"
        }
      },
      "execution_count": null,
      "outputs": [
        {
          "output_type": "execute_result",
          "data": {
            "text/plain": [
              "array([1, 3, 5, 7])"
            ]
          },
          "metadata": {},
          "execution_count": 12
        }
      ]
    },
    {
      "cell_type": "code",
      "source": [
        "b = np.array([\n",
        "     [\n",
        "\n",
        "        [100, 1, 1, 1, 1, 1],\n",
        "        [2, 2, 2, 2, 2, 2],\n",
        "        [3, 3, 3, 3, 3, 3],\n",
        "        [4, 4, 4, 4, 4, 4],\n",
        "        [5, 5, 5, 5, 5, 5],\n",
        "        [6, 6, 6, 6, 6, 6],\n",
        "      ],\n",
        "      [\n",
        "        [1000, 1, 1, 1, 1, 1],\n",
        "        [2, 2, 2, 2, 2, 2],\n",
        "        [3, 3, 3, 3, 3, 3],\n",
        "        [4, 4, 4, 4, 4, 4],\n",
        "        [5, 5, 5, 5, 5, 5],\n",
        "        [6, 6, 6, 6, 6, 6],\n",
        "      ],\n",
        "      [\n",
        "        [10000, 1, 1, 1, 1, 1],\n",
        "        [2, 2, 2, 2, 2, 2],\n",
        "        [3, 3, 3, 3, 3, 3],\n",
        "        [4, 4, 4, 4, 4, 4],\n",
        "        [5, 5, 5, 5, 5, 5],\n",
        "        [6, 6, 6, 6, 6, 6],\n",
        "      ]\n",
        "\n",
        "\n",
        "])"
      ],
      "metadata": {
        "id": "E7XTnD94D1Lr"
      },
      "execution_count": 25,
      "outputs": []
    },
    {
      "cell_type": "code",
      "source": [
        "np.where(b % 2 == 0, b, 0)"
      ],
      "metadata": {
        "id": "D2O_UmwnI-iU",
        "outputId": "49875c63-dcd9-476b-e589-d37663d25e13",
        "colab": {
          "base_uri": "https://localhost:8080/"
        }
      },
      "execution_count": 36,
      "outputs": [
        {
          "output_type": "execute_result",
          "data": {
            "text/plain": [
              "array([[[  100,     0,     0,     0,     0,     0],\n",
              "        [    2,     2,     2,     2,     2,     2],\n",
              "        [    0,     0,     0,     0,     0,     0],\n",
              "        [    4,     4,     4,     4,     4,     4],\n",
              "        [    0,     0,     0,     0,     0,     0],\n",
              "        [    6,     6,     6,     6,     6,     6]],\n",
              "\n",
              "       [[ 1000,     0,     0,     0,     0,     0],\n",
              "        [    2,     2,     2,     2,     2,     2],\n",
              "        [    0,     0,     0,     0,     0,     0],\n",
              "        [    4,     4,     4,     4,     4,     4],\n",
              "        [    0,     0,     0,     0,     0,     0],\n",
              "        [    6,     6,     6,     6,     6,     6]],\n",
              "\n",
              "       [[10000,     0,     0,     0,     0,     0],\n",
              "        [    2,     2,     2,     2,     2,     2],\n",
              "        [    0,     0,     0,     0,     0,     0],\n",
              "        [    4,     4,     4,     4,     4,     4],\n",
              "        [    0,     0,     0,     0,     0,     0],\n",
              "        [    6,     6,     6,     6,     6,     6]]])"
            ]
          },
          "metadata": {},
          "execution_count": 36
        }
      ]
    },
    {
      "cell_type": "code",
      "source": [
        "b.shape"
      ],
      "metadata": {
        "id": "0cvF2kcoFdqA",
        "outputId": "df880363-dfce-4560-de90-3bf02a41fe1b",
        "colab": {
          "base_uri": "https://localhost:8080/"
        }
      },
      "execution_count": 24,
      "outputs": [
        {
          "output_type": "execute_result",
          "data": {
            "text/plain": [
              "(3, 6, 6)"
            ]
          },
          "metadata": {},
          "execution_count": 24
        }
      ]
    },
    {
      "cell_type": "code",
      "source": [
        "l2 = np.array([\n",
        "    [\n",
        "\n",
        "        [1, 1, 1, 1, 1, 1],\n",
        "        [2, 2, 2, 2, 2, 2],\n",
        "\n",
        "      ],\n",
        "      [\n",
        "        [1, 1, 1, 1, 1, 1],\n",
        "        [2, 2, 2, 2, 2, 2],\n",
        "\n",
        "      ],\n",
        "      [\n",
        "        [1, 1, 1, 1, 1, 1],\n",
        "        [2, 2, 2, 2, 2, 2],\n",
        "\n",
        "      ]\n",
        "\n",
        "])"
      ],
      "metadata": {
        "id": "du90FpWXINuZ"
      },
      "execution_count": 20,
      "outputs": []
    },
    {
      "cell_type": "code",
      "source": [
        "l2.shape"
      ],
      "metadata": {
        "id": "Lm1WPUxpImZw",
        "outputId": "ade38b33-9710-496f-acf4-69db052422af",
        "colab": {
          "base_uri": "https://localhost:8080/"
        }
      },
      "execution_count": 21,
      "outputs": [
        {
          "output_type": "execute_result",
          "data": {
            "text/plain": [
              "(3, 2, 6)"
            ]
          },
          "metadata": {},
          "execution_count": 21
        }
      ]
    }
  ]
}